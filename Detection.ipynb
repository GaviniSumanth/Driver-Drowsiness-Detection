{
 "cells": [
  {
   "cell_type": "code",
   "execution_count": null,
   "metadata": {},
   "outputs": [],
   "source": [
    "# %pip install -q opencv-python torch scikit-learn torchvision pillow pandas requests setuptools dlib"
   ]
  },
  {
   "cell_type": "code",
   "execution_count": null,
   "metadata": {},
   "outputs": [],
   "source": [
    "# Detect Eyes in the video stream using Haar Cascade Classifier (Inaccurate)\n",
    "import cv2\n",
    "import numpy as np\n",
    "face_cascade = cv2.CascadeClassifier(\n",
    "    cv2.data.haarcascades + \"haarcascade_frontalface_default.xml\"\n",
    ")\n",
    "eye_cascade = cv2.CascadeClassifier(cv2.data.haarcascades + \"haarcascade_eye.xml\")\n",
    "\n",
    "vid = cv2.VideoCapture(0)\n",
    "try:\n",
    "    while True:\n",
    "        ret, frame = vid.read()\n",
    "\n",
    "        image_gs = cv2.cvtColor(frame, cv2.COLOR_BGR2GRAY)\n",
    "        faces = face_cascade.detectMultiScale(image_gs, 1.3, 5)\n",
    "        for x, y, w, h in faces:\n",
    "            cv2.rectangle(frame, (x, y), (x + w, y + h), (255, 0, 0), 2)\n",
    "            roi_gray = image_gs[y : y + h, x : x + w]\n",
    "            roi_color = frame[y : y + h, x : x + w]\n",
    "            eyes = eye_cascade.detectMultiScale(roi_gray)\n",
    "            for ex, ey, ew, eh in eyes:\n",
    "                cv2.rectangle(roi_color, (ex, ey), (ex + ew, ey + eh), (0, 255, 0), 2)\n",
    "\n",
    "        cv2.imshow(\"frame\", frame)\n",
    "        if cv2.waitKey(1) & 0xFF == ord(\"q\"):\n",
    "            break\n",
    "except Exception as e:\n",
    "    print(\"Camera is Missing or not working properly :(\", end=\"\\n\" * 3)\n",
    "    print(e)\n",
    "finally:\n",
    "    vid.release()\n",
    "    cv2.destroyAllWindows()"
   ]
  },
  {
   "cell_type": "code",
   "execution_count": null,
   "metadata": {},
   "outputs": [],
   "source": [
    "# Detect Individual Eyes in the video stream using Dlib (Accurate)\n",
    "import dlib\n",
    "import cv2\n",
    "import numpy as np\n",
    "\n",
    "\n",
    "class Eye:\n",
    "    detector = dlib.get_frontal_face_detector()\n",
    "    predictor = dlib.shape_predictor(\"shape_predictor_68_face_landmarks.dat\")\n",
    "\n",
    "    def extractor_vid(frame: cv2.typing.MatLike):\n",
    "        left_eyes = []\n",
    "        right_eyes = []\n",
    "        image_gs = cv2.cvtColor(frame, cv2.COLOR_BGR2GRAY)\n",
    "        faces = Eye.detector(image_gs)\n",
    "\n",
    "        for face in faces:\n",
    "            cv2.rectangle(\n",
    "                frame,\n",
    "                (face.left(), face.top()),\n",
    "                (face.right(), face.bottom()),\n",
    "                (0, 0, 255),\n",
    "                3,\n",
    "            )\n",
    "            landmarks = Eye.predictor(image_gs, face)\n",
    "            # Left Eye\n",
    "            min_x, min_y, max_x, max_y = float(\"inf\"), float(\"inf\"), 0, 0\n",
    "            for n in range(36, 42):\n",
    "                x = landmarks.part(n).x\n",
    "                y = landmarks.part(n).y\n",
    "                min_x = min(min_x, x)\n",
    "                min_y = min(min_y, y)\n",
    "                max_x = max(max_x, x)\n",
    "                max_y = max(max_y, y)\n",
    "            left_eye = frame[min_y - 20 : max_y + 20, min_x - 20 : max_x + 20, :]\n",
    "            left_eyes.append(left_eye)\n",
    "\n",
    "            # Right Eye\n",
    "            min_x, min_y, max_x, max_y = float(\"inf\"), float(\"inf\"), 0, 0\n",
    "            for n in range(42, 48):\n",
    "                x = landmarks.part(n).x\n",
    "                y = landmarks.part(n).y\n",
    "                min_x = min(min_x, x)\n",
    "                min_y = min(min_y, y)\n",
    "                max_x = max(max_x, x)\n",
    "                max_y = max(max_y, y)\n",
    "            right_eye = frame[min_y - 20 : max_y + 20, min_x - 20 : max_x + 20, :]\n",
    "            right_eyes.append(right_eye)\n",
    "        return left_eyes, right_eyes\n",
    "\n",
    "    def extractor_img(image: np.ndarray):\n",
    "        eyes = Eye.extractor_vid(image)\n",
    "        eyes=[eyes[i][0] for i in range(len(eyes)) if len(eyes[i])>0]\n",
    "        return eyes"
   ]
  },
  {
   "cell_type": "code",
   "execution_count": null,
   "metadata": {},
   "outputs": [],
   "source": [
    "vid = cv2.VideoCapture(0)\n",
    "rect_size = 1\n",
    "left_eyes = []\n",
    "right_eyes = []\n",
    "try:\n",
    "    while True:\n",
    "        ret, frame = vid.read()\n",
    "        left_eyes, right_eyes = Eye.extractor_vid(frame)\n",
    "        cv2.imshow(\"frame\", frame)\n",
    "        if cv2.waitKey(1) & 0xFF == ord(\"q\"):\n",
    "            break\n",
    "finally:\n",
    "    vid.release()\n",
    "    cv2.destroyAllWindows()"
   ]
  },
  {
   "cell_type": "code",
   "execution_count": null,
   "metadata": {},
   "outputs": [],
   "source": [
    "left_eyes[0].shape,right_eyes[0].shape"
   ]
  },
  {
   "cell_type": "code",
   "execution_count": null,
   "metadata": {},
   "outputs": [],
   "source": [
    "import matplotlib.pyplot as plt\n",
    "cv2.imwrite(\"left_eye.png\",left_eyes[0])\n",
    "cv2.imwrite(\"right_eye.png\",right_eyes[0])"
   ]
  },
  {
   "cell_type": "code",
   "execution_count": null,
   "metadata": {},
   "outputs": [],
   "source": [
    "# read images dataset using opencv\n",
    "import os\n",
    "import cv2\n",
    "import numpy as np\n",
    "import matplotlib.pyplot as plt\n",
    "from typing import List\n",
    "\n",
    "\n",
    "def read_images(path: str, limit: int) -> List[np.ndarray]:\n",
    "    images = []\n",
    "    for filename in os.listdir(path)[:limit]:\n",
    "        img = cv2.imread(os.path.join(path, filename))\n",
    "        images.append(img)\n",
    "    return images\n",
    "\n",
    "\n",
    "def display_images(images: List[np.ndarray]):\n",
    "    fig, axes = plt.subplots(1, len(images), figsize=(20, 20))\n",
    "    for i, img in enumerate(images):\n",
    "        axes[i].imshow(cv2.cvtColor(img, cv2.COLOR_BGR2RGB))\n",
    "        axes[i].axis(\"off\")\n",
    "    plt.show()\n",
    "\n",
    "\n",
    "def save_images(images: List[np.ndarray], path: str):\n",
    "    os.makedirs(path, exist_ok=True)\n",
    "    for i, img in enumerate(images):\n",
    "        if img.shape[-1] == 3:\n",
    "            cv2.imwrite(f\"{path}/{i}.png\", img)\n",
    "\n",
    "\n",
    "def save_eyes(images: List[np.ndarray], path: str):\n",
    "    os.makedirs(path, exist_ok=True)\n",
    "    for i, img in enumerate(images):\n",
    "        if img.shape[-1] == 3 and img.shape[0] > 0 and img.shape[1] > 0 and img.shape[2] > 0:\n",
    "            cv2.imwrite(f\"{path}/{i}.png\", img)"
   ]
  },
  {
   "cell_type": "code",
   "execution_count": null,
   "metadata": {},
   "outputs": [],
   "source": [
    "active_images = read_images(\"data/original/Active Subjects\",limit=300)\n",
    "display_images(active_images[:5])"
   ]
  },
  {
   "cell_type": "code",
   "execution_count": null,
   "metadata": {},
   "outputs": [],
   "source": [
    "fatigue_images = read_images(\"data/original/Fatigue Subjects\",limit=300)\n",
    "display_images(fatigue_images[:5])"
   ]
  },
  {
   "cell_type": "code",
   "execution_count": null,
   "metadata": {},
   "outputs": [],
   "source": [
    "active_eyes=Eye.extractor_img(active_images[0])\n",
    "x=(active_images[0],active_eyes[0],active_eyes[1])\n",
    "display_images(x)"
   ]
  },
  {
   "cell_type": "code",
   "execution_count": null,
   "metadata": {},
   "outputs": [],
   "source": [
    "# Extract the eyes from the images and save them in the data folder\n",
    "active_eyes = []\n",
    "fatigue_eyes = []\n",
    "for i in range(300):\n",
    "\tactive_eyes.extend(Eye.extractor_img(active_images[i]))\n",
    "\tfatigue_eyes.extend(Eye.extractor_img(fatigue_images[i]))"
   ]
  },
  {
   "cell_type": "code",
   "execution_count": null,
   "metadata": {},
   "outputs": [],
   "source": [
    "#  find no. of eyes extracted from the images where the el;eement is not an empty list\n",
    "print(\"Active Eyes:\", len(active_eyes), \"Fatigue Eyes:\", len(fatigue_eyes), sep=\"\\n\")\n",
    "print(\"Active Eyes:\")\n",
    "display_images([active_eyes[0], active_eyes[1]])\n",
    "print(\"Fatigue Eyes:\")\n",
    "display_images([fatigue_eyes[0], fatigue_eyes[1]])"
   ]
  },
  {
   "cell_type": "code",
   "execution_count": null,
   "metadata": {},
   "outputs": [],
   "source": [
    "save_images(active_images, \"data/samples/Active\")\n",
    "save_images(fatigue_images, \"data/samples/Fatigue\")\n",
    "save_eyes(active_eyes, \"data/samples/Active_Eyes\")\n",
    "save_eyes(fatigue_eyes, \"data/samples/Fatigue_Eyes\")"
   ]
  }
 ],
 "metadata": {
  "kernelspec": {
   "display_name": ".venv",
   "language": "python",
   "name": "python3"
  },
  "language_info": {
   "codemirror_mode": {
    "name": "ipython",
    "version": 3
   },
   "file_extension": ".py",
   "mimetype": "text/x-python",
   "name": "python",
   "nbconvert_exporter": "python",
   "pygments_lexer": "ipython3",
   "version": "3.12.3"
  }
 },
 "nbformat": 4,
 "nbformat_minor": 2
}
