{
 "cells": [
  {
   "cell_type": "code",
   "execution_count": 3,
   "metadata": {},
   "outputs": [
    {
     "name": "stdout",
     "output_type": "stream",
     "text": [
      "\n",
      "\u001b[1m[\u001b[0m\u001b[34;49mnotice\u001b[0m\u001b[1;39;49m]\u001b[0m\u001b[39;49m A new release of pip is available: \u001b[0m\u001b[31;49m23.3.2\u001b[0m\u001b[39;49m -> \u001b[0m\u001b[32;49m24.0\u001b[0m\n",
      "\u001b[1m[\u001b[0m\u001b[34;49mnotice\u001b[0m\u001b[1;39;49m]\u001b[0m\u001b[39;49m To update, run: \u001b[0m\u001b[32;49mpip install --upgrade pip\u001b[0m\n",
      "Note: you may need to restart the kernel to use updated packages.\n"
     ]
    }
   ],
   "source": [
    "%pip install -q opencv-python torch scikit-learn torchvision pillow pandas requests setuptools \n",
    "# %pip install dlib\n"
   ]
  },
  {
   "cell_type": "code",
   "execution_count": 1,
   "metadata": {},
   "outputs": [
    {
     "name": "stderr",
     "output_type": "stream",
     "text": [
      "2024-05-06 22:04:53.956 Python[76363:15461201] WARNING: Secure coding is not enabled for restorable state! Enable secure coding by implementing NSApplicationDelegate.applicationSupportsSecureRestorableState: and returning YES.\n"
     ]
    }
   ],
   "source": [
    "import dlib\n",
    "import cv2\n",
    "import numpy as np\n",
    "\n",
    "vid = cv2.VideoCapture(0)\n",
    "detector = dlib.get_frontal_face_detector()\n",
    "predictor = dlib.shape_predictor(\"shape_predictor_68_face_landmarks.dat\")\n",
    "rect_size = 1\n",
    "\n",
    "# Constants for drowsiness detection\n",
    "EAR_THRESHOLD = 0.30  # Eye aspect ratio threshold for detecting drowsiness\n",
    "EAR_CONSEC_FRAMES = 30  # Number of consecutive frames for which EAR is below threshold to consider drowsiness\n",
    "\n",
    "def eye_aspect_ratio(eye):\n",
    "    # Compute the euclidean distances between the two sets of vertical eye landmarks (x, y)-coordinates\n",
    "    A = np.linalg.norm(eye[1] - eye[5])\n",
    "    B = np.linalg.norm(eye[2] - eye[4])\n",
    "    # Compute the euclidean distance between the horizontal eye landmark (x, y)-coordinates\n",
    "    C = np.linalg.norm(eye[0] - eye[3])\n",
    "    # Compute the eye aspect ratio\n",
    "    ear = (A + B) / (2.0 * C)\n",
    "    return ear\n",
    "\n",
    "def detect_drowsiness(ear, prev_ears):\n",
    "    prev_ears.append(ear)\n",
    "    if len(prev_ears) > EAR_CONSEC_FRAMES:\n",
    "        prev_ears.pop(0)\n",
    "    avg_ear = np.mean(prev_ears)\n",
    "    if avg_ear < EAR_THRESHOLD:\n",
    "        return True\n",
    "    else:\n",
    "        return False\n",
    "\n",
    "prev_ears = []\n",
    "\n",
    "while True:\n",
    "    ret, frame = vid.read()\n",
    "    if ret:\n",
    "        image_gs = cv2.cvtColor(frame, cv2.COLOR_BGR2GRAY)\n",
    "        faces = detector(image_gs)\n",
    "        for face in faces:\n",
    "            landmarks = predictor(image_gs, face)\n",
    "            left_eye = []\n",
    "            right_eye = []\n",
    "            # Extracting left eye and right eye landmarks\n",
    "            for n in range(36, 42):\n",
    "                x = landmarks.part(n).x\n",
    "                y = landmarks.part(n).y\n",
    "                left_eye.append((x, y))\n",
    "            for n in range(42, 48):\n",
    "                x = landmarks.part(n).x\n",
    "                y = landmarks.part(n).y\n",
    "                right_eye.append((x, y))\n",
    "            # Compute eye aspect ratios\n",
    "            left_ear = eye_aspect_ratio(np.array(left_eye))\n",
    "            right_ear = eye_aspect_ratio(np.array(right_eye))\n",
    "            avg_ear = (left_ear + right_ear) / 2.0\n",
    "            # Detect drowsiness\n",
    "            drowsy = detect_drowsiness(avg_ear, prev_ears)\n",
    "            if drowsy:\n",
    "                cv2.putText(frame, \"DROWSY\", (10, 30), cv2.FONT_HERSHEY_SIMPLEX, 0.7, (0, 0, 255), 2)\n",
    "            else:\n",
    "                cv2.putText(frame, \"AWAKE\", (10, 30), cv2.FONT_HERSHEY_SIMPLEX, 0.7, (0, 255, 0), 2)\n",
    "        cv2.imshow(\"frame\", frame)\n",
    "        if cv2.waitKey(1) & 0xFF == ord(\"q\"):\n",
    "            break\n",
    "\n",
    "vid.release()\n",
    "cv2.destroyAllWindows()"
   ]
  }
 ],
 "metadata": {
  "kernelspec": {
   "display_name": ".venv",
   "language": "python",
   "name": "python3"
  },
  "language_info": {
   "codemirror_mode": {
    "name": "ipython",
    "version": 3
   },
   "file_extension": ".py",
   "mimetype": "text/x-python",
   "name": "python",
   "nbconvert_exporter": "python",
   "pygments_lexer": "ipython3",
   "version": "3.12.1"
  }
 },
 "nbformat": 4,
 "nbformat_minor": 2
}
